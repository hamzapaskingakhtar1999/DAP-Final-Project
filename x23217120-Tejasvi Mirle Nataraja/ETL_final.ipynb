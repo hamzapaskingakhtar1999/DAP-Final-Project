{
 "cells": [
  {
   "cell_type": "code",
   "execution_count": 6,
   "id": "f1948192",
   "metadata": {},
   "outputs": [
    {
     "ename": "ModuleNotFoundError",
     "evalue": "No module named 'dagster'",
     "output_type": "error",
     "traceback": [
      "\u001b[1;31m---------------------------------------------------------------------------\u001b[0m",
      "\u001b[1;31mModuleNotFoundError\u001b[0m                       Traceback (most recent call last)",
      "Cell \u001b[1;32mIn[6], line 1\u001b[0m\n\u001b[1;32m----> 1\u001b[0m \u001b[38;5;28;01mfrom\u001b[39;00m \u001b[38;5;21;01mdagster\u001b[39;00m \u001b[38;5;28;01mimport\u001b[39;00m pipeline, solid, ModeDefinition\n\u001b[0;32m      2\u001b[0m \u001b[38;5;28;01mfrom\u001b[39;00m \u001b[38;5;21;01mdagster\u001b[39;00m \u001b[38;5;28;01mimport\u001b[39;00m resource\n\u001b[0;32m      3\u001b[0m \u001b[38;5;28;01mfrom\u001b[39;00m \u001b[38;5;21;01mdagster_pandas\u001b[39;00m \u001b[38;5;28;01mimport\u001b[39;00m DataFrame\n",
      "\u001b[1;31mModuleNotFoundError\u001b[0m: No module named 'dagster'"
     ]
    }
   ],
   "source": [
    "from dagster import job, op,DagsterInstance,reconstructable\n",
    "from dagster import resource\n",
    "from dagster_pandas import DataFrame\n",
    "\n",
    "import pandas as pd\n",
    "from sqlalchemy import create_engine\n",
    "\n",
    "# Define PostgreSQL connection string\n",
    "POSTGRES_DB = 'postgres'\n",
    "POSTGRES_USER = 'postgres'\n",
    "POSTGRES_PASSWORD = 'system'\n",
    "POSTGRES_HOST = 'localhost'\n",
    "POSTGRES_PORT = '5432'\n",
    "\n",
    "POSTGRES_URI = f'postgresql://{POSTGRES_USER}:{POSTGRES_PASSWORD}@{POSTGRES_HOST}:{POSTGRES_PORT}/{POSTGRES_DB}'\n",
    "\n",
    "# Extract: Define a op to extract data from PostgreSQL\n",
    "@op(required_resource_keys={'postgres'})\n",
    "def extract_from_postgres(context) -> pd.DataFrame:\n",
    "    engine = create_engine(POSTGRES_URI)\n",
    "    query = \"SELECT * FROM whole_data;\"\n",
    "    return pd.read_sql(query, engine)\n",
    "\n",
    "# Transform: Define a op to transform the data\n",
    "@op\n",
    "def transform_data(context, dataframe: pd.DataFrame) -> pd.DataFrame:\n",
    "    # Drop columns 'column1' and 'column2'\n",
    "    dataframe = dataframe.drop(columns=['belongs_to_collection', 'genres','homepage','overview','spoken_languages','tagline','Keywords','cast','crew'])\n",
    "    \n",
    "    # Perform other transformations if needed\n",
    "    # dataframe['new_column'] = some_calculation(dataframe['other_column'])\n",
    "\n",
    "    return dataframe\n",
    "\n",
    "# Load: Define a solid to load the data back to PostgreSQL\n",
    "@op(required_resource_keys={'postgres'})\n",
    "def load_to_postgres(context, dataframe: pd.DataFrame):\n",
    "    engine = create_engine(POSTGRES_URI)\n",
    "    dataframe.to_sql('transformed_data', engine, if_exists='replace', index=False)\n",
    "\n",
    "# Define the PostgreSQL resource\n",
    "#postgres_resource = resource(resource_fn=lambda _: create_engine(POSTGRES_URI))\n",
    "@resource\n",
    "def postgres_resource(_):\n",
    "    return create_engine(POSTGRES_URI)\n",
    "\n",
    "# Define the Dagster pipeline \n",
    "@job(resource_defs={'postgres': postgres_resource})\n",
    "def etl_pipeline():\n",
    "    data = extract_from_postgres()\n",
    "    transformed_data = transform_data(data)\n",
    "    load_to_postgres(transformed_data)\n",
    "    \n",
    "# Run the pipeline using dagit or programmatically\n",
    "if __name__ == \"__main__\":\n",
    "    from dagster import execute_job\n",
    "    instance = DagsterInstance.get()  \n",
    "    recon_job = reconstructable(etl_pipeline)  # Create a ReconstructableJob\n",
    "    rresult = execute_job(recon_job, instance=instance)"
   ]
  },
  {
   "cell_type": "code",
   "execution_count": null,
   "id": "cfb73f07",
   "metadata": {},
   "outputs": [],
   "source": []
  }
 ],
 "metadata": {
  "kernelspec": {
   "display_name": "Python 3 (ipykernel)",
   "language": "python",
   "name": "python3"
  },
  "language_info": {
   "codemirror_mode": {
    "name": "ipython",
    "version": 3
   },
   "file_extension": ".py",
   "mimetype": "text/x-python",
   "name": "python",
   "nbconvert_exporter": "python",
   "pygments_lexer": "ipython3",
   "version": "3.11.5"
  }
 },
 "nbformat": 4,
 "nbformat_minor": 5
}
