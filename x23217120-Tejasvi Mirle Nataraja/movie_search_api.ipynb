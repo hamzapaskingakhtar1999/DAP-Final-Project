{
 "cells": [
  {
   "cell_type": "code",
   "execution_count": null,
   "id": "98d2aaee",
   "metadata": {},
   "outputs": [],
   "source": []
  },
  {
   "cell_type": "code",
   "execution_count": 3,
   "id": "9c7ab6a7",
   "metadata": {},
   "outputs": [
    {
     "name": "stdout",
     "output_type": "stream",
     "text": [
      "{'page': 1, 'results': [{'imdbid': 'tt14507354', 'genre': ['Crime', 'Drama'], 'released': 2022, 'title': 'The Endgame', 'type': 'tvSeries'}, {'imdbid': 'tt19849214', 'genre': ['Documentary'], 'released': 2022, 'title': 'Alien Endgame', 'type': 'movie'}, {'imdbid': 'tt14852334', 'genre': ['Documentary'], 'released': 2021, 'title': 'The EndGame', 'type': 'movie'}, {'imageurl': ['https://m.media-amazon.com/images/M/MV5BMTA4M2NjMGUtNzJlOS00NTUzLTkyOTYtZTY2ZGM3M2Q4M2E0XkEyXkFqcGdeQXVyNzU4NzkzNzE@._V1_UX182_CR0,0,182,268_AL_.jpg'], 'genre': ['Documentary'], 'imdbid': 'tt12292428', 'title': 'Endgame 2050', 'released': 2020, 'type': 'movie', 'synopsis': 'What will the future be like in the year 2050? Endgame 2050 is a feature-length documentary that gives us a glimpse into that future, and it does not look good. Featuring musician Moby ...'}, {'imdbid': 'tt15183146', 'genre': ['Adventure'], 'released': 2020, 'title': 'Piggy: Endgame', 'type': 'movie'}, {'imageurl': ['https://m.media-amazon.com/images/M/MV5BMTc5MDE2ODcwNV5BMl5BanBnXkFtZTgwMzI2NzQ2NzM@._V1_UX182_CR0,0,182,268_AL_.jpg'], 'genre': ['Action', 'Adventure', 'Drama'], 'imdbid': 'tt4154796', 'title': 'Avengers: Endgame', 'released': 2019, 'synopsis': \"After the devastating events of Avengers: Infinity War (2018), the universe is in ruins. With the help of remaining allies, the Avengers assemble once more in order to reverse Thanos' actions and restore balance to the universe.\", 'type': 'movie'}, {'imageurl': ['https://m.media-amazon.com/images/M/MV5BNmQwYjBhOWEtZTg3Zi00OGJlLWJiMjYtNzFjNTk4NTZkY2UyXkEyXkFqcGdeQXVyMTUyMDA5MDY@._V1_UY268_CR4,0,182,268_AL_.jpg'], 'genre': ['Documentary'], 'imdbid': 'tt8655550', 'title': 'Endgame - assisted suicide and legislation', 'released': 2018, 'type': 'movie', 'synopsis': ''}, {'imdbid': 'tt14032502', 'genre': ['Crime'], 'released': 2017, 'title': 'Almaznyi Endshpil/Diamond Endgame', 'type': 'tvMiniSeries'}, {'imageurl': ['https://m.media-amazon.com/images/M/MV5BMTU1NzY2MzgxMF5BMl5BanBnXkFtZTgwMzIxNjE1OTE@._V1_UX182_CR0,0,182,268_AL_.jpg'], 'genre': ['Action', 'Horror'], 'imdbid': 'tt5481404', 'title': 'Dead Rising: Endgame', 'released': 2016, 'type': 'movie', 'synopsis': 'In a zombie-infested quarantined zone of East Mission City, investigative reporter Chase Carter must stop a secret government conspiracy.'}, {'imageurl': ['https://m.media-amazon.com/images/M/MV5BNWZjNTFiOGUtOGQ4Mi00NjM2LTgzY2EtZDA4YzFkZDViY2U3XkEyXkFqcGdeQXVyMTQwNjgyMDM@._V1_UY268_CR120,0,182,268_AL_.jpg'], 'genre': ['Action'], 'imdbid': 'tt5255260', 'title': 'Deadly Game IV: Endgame', 'released': 2016, 'type': 'movie', 'synopsis': 'Razor D returns to oppose a new alliance of human and demon-kind. With a new team of warriors by his side along with some old enemies turned allies, the race is on to find the Pureblood, the one who can finally end the human/demon war.'}, {'imageurl': ['https://m.media-amazon.com/images/M/MV5BYjU4YjUxMDktN2FmNi00MWY1LTllZDktZmVhMjc5YTcyNDhiXkEyXkFqcGdeQXVyNTM3MDMyMDQ@._V1_UY268_CR87,0,182,268_AL_.jpg'], 'genre': ['Talk-Show'], 'imdbid': 'tt5758074', 'title': 'Endgame', 'released': 2016, 'type': 'tvSeries', 'synopsis': \"It's all video games, all the time on EndGame, Comic-Con HQ's weekly gaming show. Michele Morror and Khail Anonymous cover the industry's news, trends (good and bad)...and chat with gaming's biggest makers.\"}, {'imageurl': ['https://m.media-amazon.com/images/M/MV5BODkyMDk1MTk0OV5BMl5BanBnXkFtZTgwOTI1NjU4NjE@._V1_UX182_CR0,0,182,268_AL_.jpg'], 'genre': ['Biography', 'Drama'], 'imdbid': 'tt2941396', 'title': 'Endgame', 'released': 2015, 'type': 'movie', 'synopsis': \"Since he was 5 yrs old, Jose's abuelita taught him to play chess like his grandfather who was a champion in Mexico. Now as part of the Brownsville school team, Jose has the chance to use ...\"}, {'imageurl': ['https://m.media-amazon.com/images/M/MV5BZmE2OTgwNzQtOGRiYS00MGJmLTkyNWItMjJhNDIwNWE2ODk1XkEyXkFqcGdeQXVyMzYwMzM3NzQ@._V1_UY268_CR17,0,182,268_AL_.jpg'], 'genre': ['Drama'], 'imdbid': 'tt6551966', 'title': 'Endgame: Chapter One', 'released': 2015, 'type': 'movie', 'synopsis': ''}, {'imdbid': 'tt12861690', 'genre': ['Documentary'], 'released': 2013, 'title': \"Britten's Endgame\", 'type': 'tvMovie', 'synopsis': 'A look at the final years of Benjamin Britten\\'s life and how they influenced his final opera \"Death in Venice\".', 'imageurl': ['https://m.media-amazon.com/images/M/MV5BYzk3YTVhYjItNzQ1Ni00MWVmLTljYmEtNGU4YmMxYTRiYWExXkEyXkFqcGdeQXVyMTk0MjQ3Nzk@._V1_UX182_CR0,0,182,268_AL_.jpg']}, {'imageurl': ['https://m.media-amazon.com/images/M/MV5BMTM0NzUwNjk5MF5BMl5BanBnXkFtZTcwOTk3NDM4NA@@._V1_UY268_CR2,0,182,268_AL_.jpg'], 'genre': ['Crime', 'Drama'], 'imdbid': 'tt1797629', 'title': 'Endgame', 'released': 2011, 'type': 'tvSeries', 'synopsis': 'Endgame is an original drama series centering on brilliant chess master, Arkady Balagan. Traumatized by the murder of his fiancée, Balagan has become a prisoner in his luxury Vancouver ...'}, {'imageurl': [], 'genre': ['Thriller'], 'imdbid': 'tt1941655', 'title': 'Solitaire: Endgame', 'released': 2011, 'type': 'movie', 'synopsis': 'Two fugitives hijack a residential house to avoid a closing in police search. But the hostages fight back.'}, {'imageurl': ['https://m.media-amazon.com/images/M/MV5BMTgzNzYyNDc3M15BMl5BanBnXkFtZTcwNzA5MDA2Mw@@._V1_UY268_CR4,0,182,268_AL_.jpg'], 'genre': ['Action', 'Comedy'], 'imdbid': 'tt1268987', 'title': 'Operation: Endgame', 'released': 2010, 'type': 'movie', 'synopsis': 'A battle ensues among groups of government spy teams in an underground facility after their boss is assassinated.'}, {'imageurl': ['https://m.media-amazon.com/images/M/MV5BMTMxNTAwNDM0OV5BMl5BanBnXkFtZTcwMDc3Mjc5Mg@@._V1_UY268_CR2,0,182,268_AL_.jpg'], 'genre': ['Drama', 'History'], 'imdbid': 'tt1217616', 'title': 'Endgame', 'released': 2009, 'type': 'movie', 'synopsis': 'A story based on the covert discussions that brought down the Apartheid regime in South Africa.'}, {'imageurl': [], 'genre': ['Mystery'], 'imdbid': 'tt1322911', 'title': 'An Endgame', 'released': 2008, 'type': 'movie', 'synopsis': ''}, {'imageurl': [], 'genre': ['Drama'], 'imdbid': 'tt2097873', 'title': 'Endgame MMI', 'released': 2002, 'type': 'tvMovie', 'synopsis': ''}, {'imageurl': [], 'genre': ['Drama'], 'imdbid': 'tt1243215', 'title': 'Endgame: Ethics and Values in America', 'released': 2002, 'type': 'tvMovie', 'synopsis': 'Night. A winding road. Two women alone. A moment of distraction. Headlights. A near collision. A car veers into a canyon killing the driver. THERE ARE NO WITNESSES. A moment to think. Do ...'}, {'imageurl': [], 'genre': ['Documentary'], 'imdbid': 'tt0308221', 'title': 'Endgame in Ireland', 'released': 2001, 'type': 'tvMovie', 'synopsis': \"A comprehensive look at the Irish people's struggle for Civil rights and how it transpired into a military campaign for independence, before a political agreement was made for fair ...\"}, {'imageurl': ['https://m.media-amazon.com/images/M/MV5BMTg0NDMwNTUzMF5BMl5BanBnXkFtZTcwNTQ2NTAwMQ@@._V1_UY268_CR2,0,182,268_AL_.jpg'], 'genre': ['Drama', 'Thriller'], 'imdbid': 'tt0292502', 'title': 'Endgame', 'released': 2001, 'type': 'movie', 'synopsis': 'Sex is currency. It commands power and can instill fear. Tom, a young man with a troubled past finds himself sucked into a seedy underworld by George Norris, a now super villain with a ...'}, {'imageurl': ['https://m.media-amazon.com/images/M/MV5BMWZhMjA0ZmEtNWE5Zi00N2NjLWJhODctNGIxNzU5YWFkODc0XkEyXkFqcGdeQXVyMDY4MzkyNw@@._V1_UX182_CR0,0,182,268_AL__QL50.jpg'], 'genre': ['Comedy', 'Drama'], 'imdbid': 'tt0216736', 'title': 'Endgame', 'released': 2000, 'type': 'tvMovie', 'synopsis': 'Hamm is blind and unable to stand; Clov, his servant, is unable to sit; Nagg and Nell are his father and mother, who are legless and live in dustbins. Together they live in a room with two windows, but there may be nothing at all outside.'}, {'imageurl': ['https://m.media-amazon.com/images/M/MV5BZWMyZDdhNDYtNWE5MS00N2Q5LThmYjMtOGMzZjFmOGIzMWQ3XkEyXkFqcGdeQXVyMTQxNzMzNDI@._V1_UX182_CR0,0,182,268_AL_.jpg'], 'genre': ['Action', 'Adventure', 'Fantasy'], 'imdbid': 'tt0144964', 'title': 'Highlander: Endgame', 'released': 2000, 'type': 'movie', 'synopsis': 'Immortals Connor and Duncan MacLeod must join forces against Kell, an evil immortal who has become too strong for anyone to face alone.'}, {'imageurl': ['https://m.media-amazon.com/images/M/MV5BZmFiY2M1ZWItNTZiMC00YTA1LWE0MTQtZDhiMTQ3ODJkMjFhXkEyXkFqcGdeQXVyMjU5MTg2Mzk@._V1_UX182_CR0,0,182,268_AL__QL50.jpg'], 'genre': ['Comedy', 'Drama'], 'imdbid': 'tt0252263', 'title': 'Beckett Directs Beckett: Endgame by Samuel Beckett', 'released': 1992, 'type': 'tvMovie', 'synopsis': ''}, {'imageurl': ['https://m.media-amazon.com/images/M/MV5BOWU0M2EwOTUtMjc3OS00MTA3LTkxNmUtM2NmM2UyNGNiYzRhXkEyXkFqcGdeQXVyMDY4MzkyNw@@._V1_UY268_CR89,0,182,268_AL__QL50.jpg'], 'genre': ['Drama'], 'imdbid': 'tt0365162', 'title': 'Endgame by Samuel Beckett', 'released': 1991, 'type': 'tvMovie', 'synopsis': ''}, {'imageurl': ['https://m.media-amazon.com/images/M/MV5BZDUxMTAyNDAtNzVmZi00Mjg0LTg4ZTAtMzY5MzVjYzJjZjNiXkEyXkFqcGdeQXVyMTQ2MjQyNDc@._V1_UY268_CR9,0,182,268_AL_.jpg'], 'genre': ['Action', 'Sci-Fi', 'Thriller'], 'imdbid': 'tt0089091', 'title': 'Endgame - Bronx lotta finale', 'released': 1983, 'type': 'movie', 'synopsis': 'A telepathic mutant recruits a post-World War III TV game-show warrior to lead her band of mutants to safety.'}]}\n"
     ]
    }
   ],
   "source": [
    "import requests\n",
    "\n",
    "url = \"https://ott-details.p.rapidapi.com/search\"\n",
    "\n",
    "querystring = {\"title\":\"Endgame\",\"page\":\"1\"}\n",
    "\n",
    "headers = {\n",
    "    \"X-RapidAPI-Key\": \"d50ed2bd42msheeeef77eb5d3ccap12e061jsn87fadb66c207\",\n",
    "    \"X-RapidAPI-Host\": \"ott-details.p.rapidapi.com\"\n",
    "}\n",
    "\n",
    "response = requests.get(url, headers=headers, params=querystring)\n",
    "\n",
    "print(response.json())"
   ]
  },
  {
   "cell_type": "code",
   "execution_count": null,
   "id": "652422ca",
   "metadata": {},
   "outputs": [],
   "source": []
  }
 ],
 "metadata": {
  "kernelspec": {
   "display_name": "Python 3 (ipykernel)",
   "language": "python",
   "name": "python3"
  },
  "language_info": {
   "codemirror_mode": {
    "name": "ipython",
    "version": 3
   },
   "file_extension": ".py",
   "mimetype": "text/x-python",
   "name": "python",
   "nbconvert_exporter": "python",
   "pygments_lexer": "ipython3",
   "version": "3.11.5"
  }
 },
 "nbformat": 4,
 "nbformat_minor": 5
}
